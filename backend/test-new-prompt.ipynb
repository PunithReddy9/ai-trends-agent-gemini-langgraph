{
  "cells": [
    {
      "cell_type": "code",
      "execution_count": null,
      "metadata": {},
      "outputs": [],
      "source": [
        "# Test the new prompt structure\n",
        "from src.agent.graph import create_graph\n",
        "\n",
        "# Create the graph\n",
        "graph = create_graph()\n",
        "\n",
        "# Test the agent with the new prompt\n",
        "result = graph.invoke({\"input\": \"Generate AI intelligence briefing\"})\n",
        "\n",
        "print(\"Generated Report:\")\n",
        "print(result[\"weekly_report\"])\n"
      ]
    },
    {
      "cell_type": "code",
      "execution_count": null,
      "metadata": {},
      "outputs": [],
      "source": [
        "# Display the formatted report\n",
        "from IPython.display import Markdown\n",
        "Markdown(result[\"weekly_report\"])\n"
      ]
    }
  ],
  "metadata": {
    "language_info": {
      "name": "python"
    }
  },
  "nbformat": 4,
  "nbformat_minor": 2
}
